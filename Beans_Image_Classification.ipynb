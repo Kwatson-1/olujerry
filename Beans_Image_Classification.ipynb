{
  "cells": [
    {
      "cell_type": "markdown",
      "metadata": {
        "id": "view-in-github",
        "colab_type": "text"
      },
      "source": [
        "<a href=\"https://colab.research.google.com/github/olujerry/olujerry/blob/main/Beans_Image_Classification.ipynb\" target=\"_parent\"><img src=\"https://colab.research.google.com/assets/colab-badge.svg\" alt=\"Open In Colab\"/></a>"
      ]
    },
    {
      "cell_type": "code",
      "execution_count": 16,
      "metadata": {
        "colab": {
          "base_uri": "https://localhost:8080/"
        },
        "id": "qv1AWH4EfRJK",
        "outputId": "b5599f7a-c3cc-45bf-a9ce-37e8c103945f"
      },
      "outputs": [
        {
          "output_type": "stream",
          "name": "stdout",
          "text": [
            "Looking in indexes: https://pypi.org/simple, https://us-python.pkg.dev/colab-wheels/public/simple/\n",
            "Requirement already satisfied: kangas in /usr/local/lib/python3.8/dist-packages (1.3.2)\n",
            "Requirement already satisfied: tornado in /usr/local/lib/python3.8/dist-packages (from kangas) (6.0.4)\n",
            "Requirement already satisfied: Pillow in /usr/local/lib/python3.8/dist-packages (from kangas) (7.1.2)\n",
            "Requirement already satisfied: numpy in /usr/local/lib/python3.8/dist-packages (from kangas) (1.21.6)\n",
            "Requirement already satisfied: tqdm in /usr/local/lib/python3.8/dist-packages (from kangas) (4.64.1)\n",
            "Requirement already satisfied: nodejs-bin==16.15.1a4 in /usr/local/lib/python3.8/dist-packages (from kangas) (16.15.1a4)\n",
            "Requirement already satisfied: requests in /usr/local/lib/python3.8/dist-packages (from kangas) (2.23.0)\n",
            "Requirement already satisfied: astor in /usr/local/lib/python3.8/dist-packages (from kangas) (0.8.1)\n",
            "Requirement already satisfied: scipy in /usr/local/lib/python3.8/dist-packages (from kangas) (1.7.3)\n",
            "Requirement already satisfied: matplotlib in /usr/local/lib/python3.8/dist-packages (from kangas) (3.2.2)\n",
            "Requirement already satisfied: psutil in /usr/local/lib/python3.8/dist-packages (from kangas) (5.4.8)\n",
            "Requirement already satisfied: kiwisolver>=1.0.1 in /usr/local/lib/python3.8/dist-packages (from matplotlib->kangas) (1.4.4)\n",
            "Requirement already satisfied: cycler>=0.10 in /usr/local/lib/python3.8/dist-packages (from matplotlib->kangas) (0.11.0)\n",
            "Requirement already satisfied: pyparsing!=2.0.4,!=2.1.2,!=2.1.6,>=2.0.1 in /usr/local/lib/python3.8/dist-packages (from matplotlib->kangas) (3.0.9)\n",
            "Requirement already satisfied: python-dateutil>=2.1 in /usr/local/lib/python3.8/dist-packages (from matplotlib->kangas) (2.8.2)\n",
            "Requirement already satisfied: six>=1.5 in /usr/local/lib/python3.8/dist-packages (from python-dateutil>=2.1->matplotlib->kangas) (1.15.0)\n",
            "Requirement already satisfied: urllib3!=1.25.0,!=1.25.1,<1.26,>=1.21.1 in /usr/local/lib/python3.8/dist-packages (from requests->kangas) (1.25.11)\n",
            "Requirement already satisfied: certifi>=2017.4.17 in /usr/local/lib/python3.8/dist-packages (from requests->kangas) (2022.9.24)\n",
            "Requirement already satisfied: idna<3,>=2.5 in /usr/local/lib/python3.8/dist-packages (from requests->kangas) (2.10)\n",
            "Requirement already satisfied: chardet<4,>=3.0.2 in /usr/local/lib/python3.8/dist-packages (from requests->kangas) (3.0.4)\n"
          ]
        }
      ],
      "source": [
        "!pip install kangas"
      ]
    },
    {
      "cell_type": "code",
      "execution_count": 17,
      "metadata": {
        "id": "yA4uc_SHOzPd"
      },
      "outputs": [],
      "source": [
        "import kangas as kg\n"
      ]
    },
    {
      "cell_type": "code",
      "source": [
        "%pip install comet_ml torch datasets transformers scikit-learn"
      ],
      "metadata": {
        "colab": {
          "base_uri": "https://localhost:8080/"
        },
        "id": "TZxMAwcjGD89",
        "outputId": "5bc613ba-6fa3-46ed-d18f-41d2a6dd0b9d"
      },
      "execution_count": 18,
      "outputs": [
        {
          "output_type": "stream",
          "name": "stdout",
          "text": [
            "Looking in indexes: https://pypi.org/simple, https://us-python.pkg.dev/colab-wheels/public/simple/\n",
            "Requirement already satisfied: comet_ml in /usr/local/lib/python3.8/dist-packages (3.31.19)\n",
            "Requirement already satisfied: torch in /usr/local/lib/python3.8/dist-packages (1.13.0+cu116)\n",
            "Requirement already satisfied: datasets in /usr/local/lib/python3.8/dist-packages (2.7.1)\n",
            "Requirement already satisfied: transformers in /usr/local/lib/python3.8/dist-packages (4.25.1)\n",
            "Requirement already satisfied: scikit-learn in /usr/local/lib/python3.8/dist-packages (1.0.2)\n",
            "Requirement already satisfied: semantic-version>=2.8.0 in /usr/local/lib/python3.8/dist-packages (from comet_ml) (2.10.0)\n",
            "Requirement already satisfied: requests>=2.18.4 in /usr/local/lib/python3.8/dist-packages (from comet_ml) (2.23.0)\n",
            "Requirement already satisfied: dulwich!=0.20.33,>=0.20.6 in /usr/local/lib/python3.8/dist-packages (from comet_ml) (0.20.50)\n",
            "Requirement already satisfied: everett[ini]>=1.0.1 in /usr/local/lib/python3.8/dist-packages (from comet_ml) (3.1.0)\n",
            "Requirement already satisfied: wurlitzer>=1.0.2 in /usr/local/lib/python3.8/dist-packages (from comet_ml) (3.0.3)\n",
            "Requirement already satisfied: sentry-sdk>=1.1.0 in /usr/local/lib/python3.8/dist-packages (from comet_ml) (1.9.0)\n",
            "Requirement already satisfied: jsonschema!=3.1.0,>=2.6.0 in /usr/local/lib/python3.8/dist-packages (from comet_ml) (4.3.3)\n",
            "Requirement already satisfied: websocket-client<1.4.0,>=0.55.0 in /usr/local/lib/python3.8/dist-packages (from comet_ml) (1.3.3)\n",
            "Requirement already satisfied: simplejson in /usr/local/lib/python3.8/dist-packages (from comet_ml) (3.18.0)\n",
            "Requirement already satisfied: wrapt>=1.11.2 in /usr/local/lib/python3.8/dist-packages (from comet_ml) (1.14.1)\n",
            "Requirement already satisfied: requests-toolbelt>=0.8.0 in /usr/local/lib/python3.8/dist-packages (from comet_ml) (0.10.1)\n",
            "Requirement already satisfied: six in /usr/local/lib/python3.8/dist-packages (from comet_ml) (1.15.0)\n",
            "Requirement already satisfied: urllib3>=1.25 in /usr/local/lib/python3.8/dist-packages (from dulwich!=0.20.33,>=0.20.6->comet_ml) (1.25.11)\n",
            "Requirement already satisfied: configobj in /usr/local/lib/python3.8/dist-packages (from everett[ini]>=1.0.1->comet_ml) (5.0.6)\n",
            "Requirement already satisfied: importlib-resources>=1.4.0 in /usr/local/lib/python3.8/dist-packages (from jsonschema!=3.1.0,>=2.6.0->comet_ml) (5.10.0)\n",
            "Requirement already satisfied: attrs>=17.4.0 in /usr/local/lib/python3.8/dist-packages (from jsonschema!=3.1.0,>=2.6.0->comet_ml) (22.1.0)\n",
            "Requirement already satisfied: pyrsistent!=0.17.0,!=0.17.1,!=0.17.2,>=0.14.0 in /usr/local/lib/python3.8/dist-packages (from jsonschema!=3.1.0,>=2.6.0->comet_ml) (0.19.2)\n",
            "Requirement already satisfied: zipp>=3.1.0 in /usr/local/lib/python3.8/dist-packages (from importlib-resources>=1.4.0->jsonschema!=3.1.0,>=2.6.0->comet_ml) (3.11.0)\n",
            "Requirement already satisfied: chardet<4,>=3.0.2 in /usr/local/lib/python3.8/dist-packages (from requests>=2.18.4->comet_ml) (3.0.4)\n",
            "Requirement already satisfied: idna<3,>=2.5 in /usr/local/lib/python3.8/dist-packages (from requests>=2.18.4->comet_ml) (2.10)\n",
            "Requirement already satisfied: certifi>=2017.4.17 in /usr/local/lib/python3.8/dist-packages (from requests>=2.18.4->comet_ml) (2022.9.24)\n",
            "Requirement already satisfied: typing-extensions in /usr/local/lib/python3.8/dist-packages (from torch) (4.4.0)\n",
            "Requirement already satisfied: pyarrow>=6.0.0 in /usr/local/lib/python3.8/dist-packages (from datasets) (9.0.0)\n",
            "Requirement already satisfied: huggingface-hub<1.0.0,>=0.2.0 in /usr/local/lib/python3.8/dist-packages (from datasets) (0.11.1)\n",
            "Requirement already satisfied: dill<0.3.7 in /usr/local/lib/python3.8/dist-packages (from datasets) (0.3.6)\n",
            "Requirement already satisfied: xxhash in /usr/local/lib/python3.8/dist-packages (from datasets) (3.1.0)\n",
            "Requirement already satisfied: aiohttp in /usr/local/lib/python3.8/dist-packages (from datasets) (3.8.3)\n",
            "Requirement already satisfied: numpy>=1.17 in /usr/local/lib/python3.8/dist-packages (from datasets) (1.21.6)\n",
            "Requirement already satisfied: pandas in /usr/local/lib/python3.8/dist-packages (from datasets) (1.3.5)\n",
            "Requirement already satisfied: fsspec[http]>=2021.11.1 in /usr/local/lib/python3.8/dist-packages (from datasets) (2022.11.0)\n",
            "Requirement already satisfied: responses<0.19 in /usr/local/lib/python3.8/dist-packages (from datasets) (0.18.0)\n",
            "Requirement already satisfied: multiprocess in /usr/local/lib/python3.8/dist-packages (from datasets) (0.70.14)\n",
            "Requirement already satisfied: tqdm>=4.62.1 in /usr/local/lib/python3.8/dist-packages (from datasets) (4.64.1)\n",
            "Requirement already satisfied: packaging in /usr/local/lib/python3.8/dist-packages (from datasets) (21.3)\n",
            "Requirement already satisfied: pyyaml>=5.1 in /usr/local/lib/python3.8/dist-packages (from datasets) (6.0)\n",
            "Requirement already satisfied: yarl<2.0,>=1.0 in /usr/local/lib/python3.8/dist-packages (from aiohttp->datasets) (1.8.2)\n",
            "Requirement already satisfied: charset-normalizer<3.0,>=2.0 in /usr/local/lib/python3.8/dist-packages (from aiohttp->datasets) (2.1.1)\n",
            "Requirement already satisfied: async-timeout<5.0,>=4.0.0a3 in /usr/local/lib/python3.8/dist-packages (from aiohttp->datasets) (4.0.2)\n",
            "Requirement already satisfied: multidict<7.0,>=4.5 in /usr/local/lib/python3.8/dist-packages (from aiohttp->datasets) (6.0.3)\n",
            "Requirement already satisfied: aiosignal>=1.1.2 in /usr/local/lib/python3.8/dist-packages (from aiohttp->datasets) (1.3.1)\n",
            "Requirement already satisfied: frozenlist>=1.1.1 in /usr/local/lib/python3.8/dist-packages (from aiohttp->datasets) (1.3.3)\n",
            "Requirement already satisfied: filelock in /usr/local/lib/python3.8/dist-packages (from huggingface-hub<1.0.0,>=0.2.0->datasets) (3.8.0)\n",
            "Requirement already satisfied: pyparsing!=3.0.5,>=2.0.2 in /usr/local/lib/python3.8/dist-packages (from packaging->datasets) (3.0.9)\n",
            "Requirement already satisfied: tokenizers!=0.11.3,<0.14,>=0.11.1 in /usr/local/lib/python3.8/dist-packages (from transformers) (0.13.2)\n",
            "Requirement already satisfied: regex!=2019.12.17 in /usr/local/lib/python3.8/dist-packages (from transformers) (2022.6.2)\n",
            "Requirement already satisfied: threadpoolctl>=2.0.0 in /usr/local/lib/python3.8/dist-packages (from scikit-learn) (3.1.0)\n",
            "Requirement already satisfied: scipy>=1.1.0 in /usr/local/lib/python3.8/dist-packages (from scikit-learn) (1.7.3)\n",
            "Requirement already satisfied: joblib>=0.11 in /usr/local/lib/python3.8/dist-packages (from scikit-learn) (1.2.0)\n",
            "Requirement already satisfied: python-dateutil>=2.7.3 in /usr/local/lib/python3.8/dist-packages (from pandas->datasets) (2.8.2)\n",
            "Requirement already satisfied: pytz>=2017.3 in /usr/local/lib/python3.8/dist-packages (from pandas->datasets) (2022.6)\n"
          ]
        }
      ]
    },
    {
      "cell_type": "code",
      "source": [
        "from datasets import load_dataset\n",
        "\n",
        "dataset = load_dataset(\"beans\", split=\"train\")\n",
        "dg = kg.DataGrid(dataset)"
      ],
      "metadata": {
        "colab": {
          "base_uri": "https://localhost:8080/"
        },
        "id": "LmpBTpiVGiLf",
        "outputId": "a9b9af6b-35e2-4747-cd35-7ec72bff186b"
      },
      "execution_count": 19,
      "outputs": [
        {
          "output_type": "stream",
          "name": "stderr",
          "text": [
            "WARNING:datasets.builder:Found cached dataset beans (/root/.cache/huggingface/datasets/beans/default/0.0.0/90c755fb6db1c0ccdad02e897a37969dbf070bed3755d4391e269ff70642d791)\n",
            "100%|██████████| 1034/1034 [01:09<00:00, 14.81it/s]\n"
          ]
        }
      ]
    },
    {
      "cell_type": "code",
      "execution_count": 20,
      "metadata": {
        "colab": {
          "base_uri": "https://localhost:8080/",
          "height": 893
        },
        "id": "kuSNiWVYO9KI",
        "outputId": "23523efc-5575-434e-a6e6-18a31eefe345"
      },
      "outputs": [
        {
          "output_type": "stream",
          "name": "stdout",
          "text": [
            "Saving data...\n"
          ]
        },
        {
          "output_type": "stream",
          "name": "stderr",
          "text": [
            "100%|██████████| 1034/1034 [00:00<00:00, 94692.37it/s]\n"
          ]
        },
        {
          "output_type": "stream",
          "name": "stdout",
          "text": [
            "Saving datagrid to '/tmp/tmpjt1pcj7f/untitled.datagrid'...\n",
            "Extending data...\n"
          ]
        },
        {
          "output_type": "stream",
          "name": "stderr",
          "text": [
            "100%|██████████| 1034/1034 [00:01<00:00, 554.36it/s]\n"
          ]
        },
        {
          "output_type": "stream",
          "name": "stdout",
          "text": [
            "Computing statistics...\n"
          ]
        },
        {
          "output_type": "stream",
          "name": "stderr",
          "text": [
            "100%|██████████| 5/5 [00:00<00:00, 801.05it/s]\n"
          ]
        },
        {
          "output_type": "display_data",
          "data": {
            "text/plain": [
              "<IPython.core.display.Javascript object>"
            ],
            "application/javascript": [
              "\n",
              "(async ()=>{\n",
              "    fm = document.createElement('iframe');\n",
              "    fm.src = (await google.colab.kernel.proxyPort(4000)) + '?datagrid=%2Ftmp%2Ftmpjt1pcj7f%2Funtitled.datagrid';\n",
              "    fm.width = '100%';\n",
              "    fm.height = '750px';\n",
              "    fm.frameBorder = 0;\n",
              "    document.body.append(fm);\n",
              "    window.addEventListener(\"message\", async (e) => {\n",
              "        const { type, targetId } = e.data;\n",
              "        if (type === 'metadata') {\n",
              "            const result = await google.colab.kernel.invokeFunction(\n",
              "                '_py_fetch_metadata',\n",
              "                [e.data.dgid, e.data.assetId],\n",
              "                {});\n",
              "            const message = JSON.parse(result.data?.['text/plain'].slice(1, -1));\n",
              "            message['messageType'] = 'metadata';\n",
              "            message['targetId'] = targetId;\n",
              "            fm.contentWindow.postMessage(message, \"*\");\n",
              "        } else if (type === 'asset') {\n",
              "            const result = await google.colab.kernel.invokeFunction(\n",
              "                '_py_fetch_asset',\n",
              "                [e.data.dgid, e.data.assetId],\n",
              "                {});\n",
              "            const srcString = result.data?.['text/plain'].slice(2, -1);\n",
              "            const message = {\n",
              "                src: srcString,\n",
              "                messageType: 'asset',\n",
              "                targetId\n",
              "            };\n",
              "            fm.contentWindow.postMessage(message, \"*\");\n",
              "        } else if (type === 'histogram') {\n",
              "            const { dgid, groupBy, where, columnName, columnValue, where_description, computed_columns, whereExpr } = e.data\n",
              "            const result = await google.colab.kernel.invokeFunction(\n",
              "                '_py_fetch_histogram',\n",
              "                [dgid, groupBy, where, columnName, columnValue, where_description, computed_columns, whereExpr],\n",
              "                {}\n",
              "            )\n",
              "            const message = {\n",
              "                raw: result.data?.['text/plain'],\n",
              "                messageType: 'histogram',\n",
              "                targetId\n",
              "            };\n",
              "            fm.contentWindow.postMessage(message, \"*\");\n",
              "        } else if (type === 'category') {\n",
              "            const { dgid, groupBy, where, columnName, columnValue, where_description, computed_columns, whereExpr } = e.data\n",
              "            const result = await google.colab.kernel.invokeFunction(\n",
              "                '_py_fetch_category',\n",
              "                [dgid, groupBy, where, columnName, columnValue, where_description, computed_columns, whereExpr],\n",
              "                {}\n",
              "            )\n",
              "            const message = {\n",
              "                raw: result.data?.['text/plain'],\n",
              "                messageType: 'category',\n",
              "                targetId\n",
              "            };\n",
              "            fm.contentWindow.postMessage(message, \"*\");\n",
              "        }\n",
              "\n",
              "    }, false);\n",
              "})();\n"
            ]
          },
          "metadata": {}
        }
      ],
      "source": [
        "dg.show()"
      ]
    },
    {
      "cell_type": "code",
      "execution_count": 21,
      "metadata": {
        "id": "23tUUHKbPROX",
        "colab": {
          "base_uri": "https://localhost:8080/",
          "height": 789
        },
        "outputId": "515c2f5d-3c70-42e1-8c72-0dbd7254d140"
      },
      "outputs": [
        {
          "output_type": "display_data",
          "data": {
            "text/plain": [
              "<IPython.core.display.Javascript object>"
            ],
            "application/javascript": [
              "\n",
              "(async ()=>{\n",
              "    fm = document.createElement('iframe');\n",
              "    fm.src = (await google.colab.kernel.proxyPort(4000)) + '?datagrid=%2Ftmp%2Ftmpjt1pcj7f%2Funtitled.datagrid&filter=%7B%27labels%27%7D';\n",
              "    fm.width = '100%';\n",
              "    fm.height = '750px';\n",
              "    fm.frameBorder = 0;\n",
              "    document.body.append(fm);\n",
              "    window.addEventListener(\"message\", async (e) => {\n",
              "        const { type, targetId } = e.data;\n",
              "        if (type === 'metadata') {\n",
              "            const result = await google.colab.kernel.invokeFunction(\n",
              "                '_py_fetch_metadata',\n",
              "                [e.data.dgid, e.data.assetId],\n",
              "                {});\n",
              "            const message = JSON.parse(result.data?.['text/plain'].slice(1, -1));\n",
              "            message['messageType'] = 'metadata';\n",
              "            message['targetId'] = targetId;\n",
              "            fm.contentWindow.postMessage(message, \"*\");\n",
              "        } else if (type === 'asset') {\n",
              "            const result = await google.colab.kernel.invokeFunction(\n",
              "                '_py_fetch_asset',\n",
              "                [e.data.dgid, e.data.assetId],\n",
              "                {});\n",
              "            const srcString = result.data?.['text/plain'].slice(2, -1);\n",
              "            const message = {\n",
              "                src: srcString,\n",
              "                messageType: 'asset',\n",
              "                targetId\n",
              "            };\n",
              "            fm.contentWindow.postMessage(message, \"*\");\n",
              "        } else if (type === 'histogram') {\n",
              "            const { dgid, groupBy, where, columnName, columnValue, where_description, computed_columns, whereExpr } = e.data\n",
              "            const result = await google.colab.kernel.invokeFunction(\n",
              "                '_py_fetch_histogram',\n",
              "                [dgid, groupBy, where, columnName, columnValue, where_description, computed_columns, whereExpr],\n",
              "                {}\n",
              "            )\n",
              "            const message = {\n",
              "                raw: result.data?.['text/plain'],\n",
              "                messageType: 'histogram',\n",
              "                targetId\n",
              "            };\n",
              "            fm.contentWindow.postMessage(message, \"*\");\n",
              "        } else if (type === 'category') {\n",
              "            const { dgid, groupBy, where, columnName, columnValue, where_description, computed_columns, whereExpr } = e.data\n",
              "            const result = await google.colab.kernel.invokeFunction(\n",
              "                '_py_fetch_category',\n",
              "                [dgid, groupBy, where, columnName, columnValue, where_description, computed_columns, whereExpr],\n",
              "                {}\n",
              "            )\n",
              "            const message = {\n",
              "                raw: result.data?.['text/plain'],\n",
              "                messageType: 'category',\n",
              "                targetId\n",
              "            };\n",
              "            fm.contentWindow.postMessage(message, \"*\");\n",
              "        }\n",
              "\n",
              "    }, false);\n",
              "})();\n"
            ]
          },
          "metadata": {}
        },
        {
          "output_type": "execute_result",
          "data": {
            "text/plain": [
              "False"
            ]
          },
          "metadata": {},
          "execution_count": 21
        }
      ],
      "source": [
        "dg.show({\"labels\"})==1"
      ]
    },
    {
      "cell_type": "code",
      "execution_count": 22,
      "metadata": {
        "colab": {
          "base_uri": "https://localhost:8080/",
          "height": 789
        },
        "id": "DX0_ENrwPTIj",
        "outputId": "bfe51cb7-3ef1-4e3a-eb5a-ea699ee55e50"
      },
      "outputs": [
        {
          "output_type": "display_data",
          "data": {
            "text/plain": [
              "<IPython.core.display.Javascript object>"
            ],
            "application/javascript": [
              "\n",
              "(async ()=>{\n",
              "    fm = document.createElement('iframe');\n",
              "    fm.src = (await google.colab.kernel.proxyPort(4000)) + '?datagrid=%2Ftmp%2Ftmpjt1pcj7f%2Funtitled.datagrid&filter=%7B%27labels%27%7D';\n",
              "    fm.width = '100%';\n",
              "    fm.height = '750px';\n",
              "    fm.frameBorder = 0;\n",
              "    document.body.append(fm);\n",
              "    window.addEventListener(\"message\", async (e) => {\n",
              "        const { type, targetId } = e.data;\n",
              "        if (type === 'metadata') {\n",
              "            const result = await google.colab.kernel.invokeFunction(\n",
              "                '_py_fetch_metadata',\n",
              "                [e.data.dgid, e.data.assetId],\n",
              "                {});\n",
              "            const message = JSON.parse(result.data?.['text/plain'].slice(1, -1));\n",
              "            message['messageType'] = 'metadata';\n",
              "            message['targetId'] = targetId;\n",
              "            fm.contentWindow.postMessage(message, \"*\");\n",
              "        } else if (type === 'asset') {\n",
              "            const result = await google.colab.kernel.invokeFunction(\n",
              "                '_py_fetch_asset',\n",
              "                [e.data.dgid, e.data.assetId],\n",
              "                {});\n",
              "            const srcString = result.data?.['text/plain'].slice(2, -1);\n",
              "            const message = {\n",
              "                src: srcString,\n",
              "                messageType: 'asset',\n",
              "                targetId\n",
              "            };\n",
              "            fm.contentWindow.postMessage(message, \"*\");\n",
              "        } else if (type === 'histogram') {\n",
              "            const { dgid, groupBy, where, columnName, columnValue, where_description, computed_columns, whereExpr } = e.data\n",
              "            const result = await google.colab.kernel.invokeFunction(\n",
              "                '_py_fetch_histogram',\n",
              "                [dgid, groupBy, where, columnName, columnValue, where_description, computed_columns, whereExpr],\n",
              "                {}\n",
              "            )\n",
              "            const message = {\n",
              "                raw: result.data?.['text/plain'],\n",
              "                messageType: 'histogram',\n",
              "                targetId\n",
              "            };\n",
              "            fm.contentWindow.postMessage(message, \"*\");\n",
              "        } else if (type === 'category') {\n",
              "            const { dgid, groupBy, where, columnName, columnValue, where_description, computed_columns, whereExpr } = e.data\n",
              "            const result = await google.colab.kernel.invokeFunction(\n",
              "                '_py_fetch_category',\n",
              "                [dgid, groupBy, where, columnName, columnValue, where_description, computed_columns, whereExpr],\n",
              "                {}\n",
              "            )\n",
              "            const message = {\n",
              "                raw: result.data?.['text/plain'],\n",
              "                messageType: 'category',\n",
              "                targetId\n",
              "            };\n",
              "            fm.contentWindow.postMessage(message, \"*\");\n",
              "        }\n",
              "\n",
              "    }, false);\n",
              "})();\n"
            ]
          },
          "metadata": {}
        },
        {
          "output_type": "execute_result",
          "data": {
            "text/plain": [
              "False"
            ]
          },
          "metadata": {},
          "execution_count": 22
        }
      ],
      "source": [
        "dg.show({\"labels\"})==2\n"
      ]
    },
    {
      "cell_type": "code",
      "source": [
        "dg.show({\"labels\"})==0"
      ],
      "metadata": {
        "colab": {
          "base_uri": "https://localhost:8080/",
          "height": 789
        },
        "id": "wJ29f3WUydzM",
        "outputId": "ea1647bf-b0fb-4e1c-873b-4083e1a45298"
      },
      "execution_count": 23,
      "outputs": [
        {
          "output_type": "display_data",
          "data": {
            "text/plain": [
              "<IPython.core.display.Javascript object>"
            ],
            "application/javascript": [
              "\n",
              "(async ()=>{\n",
              "    fm = document.createElement('iframe');\n",
              "    fm.src = (await google.colab.kernel.proxyPort(4000)) + '?datagrid=%2Ftmp%2Ftmpjt1pcj7f%2Funtitled.datagrid&filter=%7B%27labels%27%7D';\n",
              "    fm.width = '100%';\n",
              "    fm.height = '750px';\n",
              "    fm.frameBorder = 0;\n",
              "    document.body.append(fm);\n",
              "    window.addEventListener(\"message\", async (e) => {\n",
              "        const { type, targetId } = e.data;\n",
              "        if (type === 'metadata') {\n",
              "            const result = await google.colab.kernel.invokeFunction(\n",
              "                '_py_fetch_metadata',\n",
              "                [e.data.dgid, e.data.assetId],\n",
              "                {});\n",
              "            const message = JSON.parse(result.data?.['text/plain'].slice(1, -1));\n",
              "            message['messageType'] = 'metadata';\n",
              "            message['targetId'] = targetId;\n",
              "            fm.contentWindow.postMessage(message, \"*\");\n",
              "        } else if (type === 'asset') {\n",
              "            const result = await google.colab.kernel.invokeFunction(\n",
              "                '_py_fetch_asset',\n",
              "                [e.data.dgid, e.data.assetId],\n",
              "                {});\n",
              "            const srcString = result.data?.['text/plain'].slice(2, -1);\n",
              "            const message = {\n",
              "                src: srcString,\n",
              "                messageType: 'asset',\n",
              "                targetId\n",
              "            };\n",
              "            fm.contentWindow.postMessage(message, \"*\");\n",
              "        } else if (type === 'histogram') {\n",
              "            const { dgid, groupBy, where, columnName, columnValue, where_description, computed_columns, whereExpr } = e.data\n",
              "            const result = await google.colab.kernel.invokeFunction(\n",
              "                '_py_fetch_histogram',\n",
              "                [dgid, groupBy, where, columnName, columnValue, where_description, computed_columns, whereExpr],\n",
              "                {}\n",
              "            )\n",
              "            const message = {\n",
              "                raw: result.data?.['text/plain'],\n",
              "                messageType: 'histogram',\n",
              "                targetId\n",
              "            };\n",
              "            fm.contentWindow.postMessage(message, \"*\");\n",
              "        } else if (type === 'category') {\n",
              "            const { dgid, groupBy, where, columnName, columnValue, where_description, computed_columns, whereExpr } = e.data\n",
              "            const result = await google.colab.kernel.invokeFunction(\n",
              "                '_py_fetch_category',\n",
              "                [dgid, groupBy, where, columnName, columnValue, where_description, computed_columns, whereExpr],\n",
              "                {}\n",
              "            )\n",
              "            const message = {\n",
              "                raw: result.data?.['text/plain'],\n",
              "                messageType: 'category',\n",
              "                targetId\n",
              "            };\n",
              "            fm.contentWindow.postMessage(message, \"*\");\n",
              "        }\n",
              "\n",
              "    }, false);\n",
              "})();\n"
            ]
          },
          "metadata": {}
        },
        {
          "output_type": "execute_result",
          "data": {
            "text/plain": [
              "False"
            ]
          },
          "metadata": {},
          "execution_count": 23
        }
      ]
    },
    {
      "cell_type": "code",
      "source": [
        "dg.show({\"labels\"})==2"
      ],
      "metadata": {
        "colab": {
          "base_uri": "https://localhost:8080/",
          "height": 789
        },
        "id": "baiRFB-Q_2b4",
        "outputId": "a8ac3529-80a7-48c9-a7b9-250b3768e1ee"
      },
      "execution_count": 25,
      "outputs": [
        {
          "output_type": "display_data",
          "data": {
            "text/plain": [
              "<IPython.core.display.Javascript object>"
            ],
            "application/javascript": [
              "\n",
              "(async ()=>{\n",
              "    fm = document.createElement('iframe');\n",
              "    fm.src = (await google.colab.kernel.proxyPort(4000)) + '?datagrid=%2Ftmp%2Ftmpjt1pcj7f%2Funtitled.datagrid&filter=%7B%27labels%27%7D';\n",
              "    fm.width = '100%';\n",
              "    fm.height = '750px';\n",
              "    fm.frameBorder = 0;\n",
              "    document.body.append(fm);\n",
              "    window.addEventListener(\"message\", async (e) => {\n",
              "        const { type, targetId } = e.data;\n",
              "        if (type === 'metadata') {\n",
              "            const result = await google.colab.kernel.invokeFunction(\n",
              "                '_py_fetch_metadata',\n",
              "                [e.data.dgid, e.data.assetId],\n",
              "                {});\n",
              "            const message = JSON.parse(result.data?.['text/plain'].slice(1, -1));\n",
              "            message['messageType'] = 'metadata';\n",
              "            message['targetId'] = targetId;\n",
              "            fm.contentWindow.postMessage(message, \"*\");\n",
              "        } else if (type === 'asset') {\n",
              "            const result = await google.colab.kernel.invokeFunction(\n",
              "                '_py_fetch_asset',\n",
              "                [e.data.dgid, e.data.assetId],\n",
              "                {});\n",
              "            const srcString = result.data?.['text/plain'].slice(2, -1);\n",
              "            const message = {\n",
              "                src: srcString,\n",
              "                messageType: 'asset',\n",
              "                targetId\n",
              "            };\n",
              "            fm.contentWindow.postMessage(message, \"*\");\n",
              "        } else if (type === 'histogram') {\n",
              "            const { dgid, groupBy, where, columnName, columnValue, where_description, computed_columns, whereExpr } = e.data\n",
              "            const result = await google.colab.kernel.invokeFunction(\n",
              "                '_py_fetch_histogram',\n",
              "                [dgid, groupBy, where, columnName, columnValue, where_description, computed_columns, whereExpr],\n",
              "                {}\n",
              "            )\n",
              "            const message = {\n",
              "                raw: result.data?.['text/plain'],\n",
              "                messageType: 'histogram',\n",
              "                targetId\n",
              "            };\n",
              "            fm.contentWindow.postMessage(message, \"*\");\n",
              "        } else if (type === 'category') {\n",
              "            const { dgid, groupBy, where, columnName, columnValue, where_description, computed_columns, whereExpr } = e.data\n",
              "            const result = await google.colab.kernel.invokeFunction(\n",
              "                '_py_fetch_category',\n",
              "                [dgid, groupBy, where, columnName, columnValue, where_description, computed_columns, whereExpr],\n",
              "                {}\n",
              "            )\n",
              "            const message = {\n",
              "                raw: result.data?.['text/plain'],\n",
              "                messageType: 'category',\n",
              "                targetId\n",
              "            };\n",
              "            fm.contentWindow.postMessage(message, \"*\");\n",
              "        }\n",
              "\n",
              "    }, false);\n",
              "})();\n"
            ]
          },
          "metadata": {}
        },
        {
          "output_type": "execute_result",
          "data": {
            "text/plain": [
              "False"
            ]
          },
          "metadata": {},
          "execution_count": 25
        }
      ]
    },
    {
      "cell_type": "code",
      "source": [
        "dg.show()"
      ],
      "metadata": {
        "colab": {
          "base_uri": "https://localhost:8080/",
          "height": 771
        },
        "id": "EnXNnV4hz-lT",
        "outputId": "ccbd9452-6938-49a9-835c-43abefee5132"
      },
      "execution_count": 24,
      "outputs": [
        {
          "output_type": "display_data",
          "data": {
            "text/plain": [
              "<IPython.core.display.Javascript object>"
            ],
            "application/javascript": [
              "\n",
              "(async ()=>{\n",
              "    fm = document.createElement('iframe');\n",
              "    fm.src = (await google.colab.kernel.proxyPort(4000)) + '?datagrid=%2Ftmp%2Ftmpjt1pcj7f%2Funtitled.datagrid';\n",
              "    fm.width = '100%';\n",
              "    fm.height = '750px';\n",
              "    fm.frameBorder = 0;\n",
              "    document.body.append(fm);\n",
              "    window.addEventListener(\"message\", async (e) => {\n",
              "        const { type, targetId } = e.data;\n",
              "        if (type === 'metadata') {\n",
              "            const result = await google.colab.kernel.invokeFunction(\n",
              "                '_py_fetch_metadata',\n",
              "                [e.data.dgid, e.data.assetId],\n",
              "                {});\n",
              "            const message = JSON.parse(result.data?.['text/plain'].slice(1, -1));\n",
              "            message['messageType'] = 'metadata';\n",
              "            message['targetId'] = targetId;\n",
              "            fm.contentWindow.postMessage(message, \"*\");\n",
              "        } else if (type === 'asset') {\n",
              "            const result = await google.colab.kernel.invokeFunction(\n",
              "                '_py_fetch_asset',\n",
              "                [e.data.dgid, e.data.assetId],\n",
              "                {});\n",
              "            const srcString = result.data?.['text/plain'].slice(2, -1);\n",
              "            const message = {\n",
              "                src: srcString,\n",
              "                messageType: 'asset',\n",
              "                targetId\n",
              "            };\n",
              "            fm.contentWindow.postMessage(message, \"*\");\n",
              "        } else if (type === 'histogram') {\n",
              "            const { dgid, groupBy, where, columnName, columnValue, where_description, computed_columns, whereExpr } = e.data\n",
              "            const result = await google.colab.kernel.invokeFunction(\n",
              "                '_py_fetch_histogram',\n",
              "                [dgid, groupBy, where, columnName, columnValue, where_description, computed_columns, whereExpr],\n",
              "                {}\n",
              "            )\n",
              "            const message = {\n",
              "                raw: result.data?.['text/plain'],\n",
              "                messageType: 'histogram',\n",
              "                targetId\n",
              "            };\n",
              "            fm.contentWindow.postMessage(message, \"*\");\n",
              "        } else if (type === 'category') {\n",
              "            const { dgid, groupBy, where, columnName, columnValue, where_description, computed_columns, whereExpr } = e.data\n",
              "            const result = await google.colab.kernel.invokeFunction(\n",
              "                '_py_fetch_category',\n",
              "                [dgid, groupBy, where, columnName, columnValue, where_description, computed_columns, whereExpr],\n",
              "                {}\n",
              "            )\n",
              "            const message = {\n",
              "                raw: result.data?.['text/plain'],\n",
              "                messageType: 'category',\n",
              "                targetId\n",
              "            };\n",
              "            fm.contentWindow.postMessage(message, \"*\");\n",
              "        }\n",
              "\n",
              "    }, false);\n",
              "})();\n"
            ]
          },
          "metadata": {}
        }
      ]
    }
  ],
  "metadata": {
    "colab": {
      "provenance": [],
      "authorship_tag": "ABX9TyNPehDt3hMm9iyY0SDvJWEP",
      "include_colab_link": true
    },
    "kernelspec": {
      "display_name": "Python 3",
      "name": "python3"
    },
    "language_info": {
      "name": "python"
    }
  },
  "nbformat": 4,
  "nbformat_minor": 0
}